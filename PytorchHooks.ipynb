{
  "nbformat": 4,
  "nbformat_minor": 0,
  "metadata": {
    "colab": {
      "provenance": [],
      "authorship_tag": "ABX9TyN7SJnshZdf1pGnGgThFKQl",
      "include_colab_link": true
    },
    "kernelspec": {
      "name": "python3",
      "display_name": "Python 3"
    },
    "language_info": {
      "name": "python"
    }
  },
  "cells": [
    {
      "cell_type": "markdown",
      "metadata": {
        "id": "view-in-github",
        "colab_type": "text"
      },
      "source": [
        "<a href=\"https://colab.research.google.com/github/mitran27/AiUtils/blob/main/PytorchHooks.ipynb\" target=\"_parent\"><img src=\"https://colab.research.google.com/assets/colab-badge.svg\" alt=\"Open In Colab\"/></a>"
      ]
    },
    {
      "cell_type": "code",
      "execution_count": 3,
      "metadata": {
        "id": "HCHNroiYYZdL"
      },
      "outputs": [],
      "source": [
        "import torch\n",
        "from torch.nn import Module"
      ]
    },
    {
      "cell_type": "code",
      "source": [
        "class CLayer (Module):\n",
        "  def  __init__(self):super().__init__()\n",
        "  def forward(self,x,y):return x*y\n",
        "class Sample(Module):\n",
        "  def __init__(self):\n",
        "    super().__init__()\n",
        "    self.a = torch.tensor(2.0, requires_grad=True)\n",
        "    self.b = torch.tensor(3.0, requires_grad=True)\n",
        "    self.d = torch.tensor(4.0, requires_grad=True)\n",
        "    self.c = CLayer()\n",
        "    self.temp = []\n",
        "    self.c.register_forward_hook(self.save_hooksO)\n",
        "    self.c.register_forward_pre_hook(self.save_hooksI)\n",
        "    self.a.register_hook(self.update_grad)\n",
        "    self.c.register_backward_hook(self.view_grad) # returns all propertis of grad for the layer(inputs,output)\n",
        "\n",
        "  def save_hooksI(self,module,inputs):\n",
        "    self.temp.append(inputs)\n",
        "  def save_hooksO(self,module,inputs,outputs):\n",
        "     self.temp.append(outputs)\n",
        "  def update_grad(self,grad):\n",
        "    print(grad)\n",
        "    self.temp.append(grad)\n",
        "    return grad+2\n",
        "  def view_grad(self,module,grad_in,grad_out):\n",
        "    self.temp.append((grad_in,grad_out))\n",
        "\n",
        "\n",
        "\n",
        "  def forward(self):\n",
        "    c  =self.c(self.a,self.b)\n",
        "    #c.register_hook(self.update_grad) returns only the grad for the operation\n",
        "    e = c * self.d\n",
        "    e.register_hook(self.update_grad)\n",
        "\n",
        "    e.backward()\n",
        "\n",
        "\n",
        "\n",
        "\n",
        "\n",
        ""
      ],
      "metadata": {
        "id": "Q_klnAooCeVh"
      },
      "execution_count": 31,
      "outputs": []
    },
    {
      "cell_type": "code",
      "source": [
        "newnet = Sample()\n",
        "newnet()\n",
        "print(\"values in temp\")\n",
        "newnet.temp"
      ],
      "metadata": {
        "colab": {
          "base_uri": "https://localhost:8080/"
        },
        "id": "sQXHB9n6I-dp",
        "outputId": "00f50104-02e8-4327-a171-7988e69b1d84"
      },
      "execution_count": 32,
      "outputs": [
        {
          "output_type": "stream",
          "name": "stdout",
          "text": [
            "tensor(1.)\n",
            "tensor(36.)\n",
            "values in temp\n"
          ]
        },
        {
          "output_type": "stream",
          "name": "stderr",
          "text": [
            "/usr/local/lib/python3.10/dist-packages/torch/nn/modules/module.py:1359: UserWarning: Using a non-full backward hook when the forward contains multiple autograd Nodes is deprecated and will be removed in future versions. This hook will be missing some grad_input. Please use register_full_backward_hook to get the documented behavior.\n",
            "  warnings.warn(\"Using a non-full backward hook when the forward contains multiple autograd Nodes \"\n"
          ]
        },
        {
          "output_type": "execute_result",
          "data": {
            "text/plain": [
              "[(tensor(2., requires_grad=True), tensor(3., requires_grad=True)),\n",
              " tensor(6., grad_fn=<MulBackward0>),\n",
              " tensor(1.),\n",
              " ((tensor(36.), tensor(24.)), (tensor(12.),)),\n",
              " tensor(36.)]"
            ]
          },
          "metadata": {},
          "execution_count": 32
        }
      ]
    },
    {
      "cell_type": "code",
      "source": [],
      "metadata": {
        "id": "FH_01NcUJIu3"
      },
      "execution_count": null,
      "outputs": []
    }
  ]
}